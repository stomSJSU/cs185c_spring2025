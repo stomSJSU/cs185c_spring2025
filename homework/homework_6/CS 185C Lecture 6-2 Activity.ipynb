{
 "cells": [
  {
   "cell_type": "markdown",
   "id": "ae587e5d-ad7d-42ad-9ca7-d064e2ef5f2f",
   "metadata": {},
   "source": [
    "# Unix Environments and MITgcm\n",
    "\n",
    "Name: Stephen Tom\n",
    "\n",
    "Date: 2-27-2025\n",
    "\n",
    "#### Overview\n",
    "In this activity, you will ensure you have a Fortran compiler installed on your machine, download a recent version of the MIT General Circulation Model source code, and compile a verification model experiment."
   ]
  },
  {
   "cell_type": "markdown",
   "id": "8926c19c-ad19-419b-b2d9-6f7a1f7f8989",
   "metadata": {},
   "source": [
    "### Part 1: Download a Compiler\n",
    "To start this activity, begin by installing a Fortran compiler on your machine by following the instructions [HERE](https://profmikewood.github.io/ocean_modeling_book/getting_started/installing_compiler_and_mpi.html). Note that there are different installation instructions depending on whether your machine is a Mac or a PC. \n",
    "\n",
    "When your download is complete, edit the following cell to outline which option you chose."
   ]
  },
  {
   "cell_type": "markdown",
   "id": "82dc97dd-19e8-4175-aebb-4ba74a2c9eaf",
   "metadata": {},
   "source": [
    "I am using a Windows 11 machine with the 24H2 operation system. I downloaded the gcc-fortran compiler."
   ]
  },
  {
   "cell_type": "markdown",
   "id": "1cb79dc8-5d71-4126-b851-3af0c3a44027",
   "metadata": {},
   "source": [
    "### Part 2: Unix Commands\n",
    "Answer the following questions about Unix commands and their output on your machine. When you enter your Unix commands below, you can make a markdown code block using three ` symbols as follows:\n",
    "\n",
    "```\n",
    "unix code\n",
    "```"
   ]
  },
  {
   "cell_type": "markdown",
   "id": "520ecb33",
   "metadata": {},
   "source": [
    "Question 2.1: What is the path to your home directory? Enter the command you use to identify this directory and list the path."
   ]
  },
  {
   "cell_type": "markdown",
   "id": "30ea46e7-aa1b-42ac-8744-f35dffb22398",
   "metadata": {},
   "source": [
    "/cygdrive/c/users/steph\n",
    "\n",
    "echo $HOME"
   ]
  },
  {
   "cell_type": "markdown",
   "id": "c98714f6",
   "metadata": {},
   "source": [
    "Question 2.2: What is your default \"profile script\" on your machine? What command can you use to list the hidden files in your home directory?"
   ]
  },
  {
   "cell_type": "markdown",
   "id": "abe5a538-53c2-4911-a57e-853f512d41fb",
   "metadata": {},
   "source": [
    "bash_profile\n",
    "\n",
    "ls -a $HOME"
   ]
  },
  {
   "cell_type": "markdown",
   "id": "7ff6aefc",
   "metadata": {},
   "source": [
    "Question 2.3: Change your directory to the folder that you use to store files for this CS 185C class. Enter the commands you entered to move to this directory."
   ]
  },
  {
   "cell_type": "markdown",
   "id": "1c1d13f9-2893-46a4-8f59-0bd314a66fc8",
   "metadata": {},
   "source": [
    "cd /cygdrive/c/users/steph/SJSU/CS185C"
   ]
  },
  {
   "cell_type": "markdown",
   "id": "a7dca3ed",
   "metadata": {},
   "source": [
    "### Part 3: MITgcm\n",
    "In this section, you will download a recent version of MITgcm. In your CS 185C directory, run the following command:\n",
    "    \n",
    "```\n",
    "git clone https://github.com/MITgcm/MITgcm.git\n",
    "```\n",
    "\n",
    "This will clone the MITgcm code into your CS 185C repository next to other directories you have e.g. homework, project, etc. When your clone is complete change directories into the MITgcm directory."
   ]
  },
  {
   "cell_type": "markdown",
   "id": "db1bc848-211a-476b-91e0-f8c9826341cd",
   "metadata": {},
   "source": [
    "The model source code is listed in the `model/src` directory. Enter a Unix command to list all of the files in this directory. Then, based on the file names, identify one script that aligns with a topic we have covered so far in CS 185C. What do you suppose this script will do in the model?"
   ]
  },
  {
   "cell_type": "markdown",
   "id": "09d87eb0-a38c-45c0-9162-846926fd498a",
   "metadata": {},
   "source": [
    "thermodynamics.F\n",
    "\n",
    "I believe that this script will read/analyze how heat and temperature changes in the oceanic process."
   ]
  },
  {
   "cell_type": "markdown",
   "id": "775df175",
   "metadata": {},
   "source": [
    "### Part 4: Compile a Model Tutorial"
   ]
  },
  {
   "cell_type": "markdown",
   "id": "1e2c4b43",
   "metadata": {},
   "source": [
    "Next, follow the instructions to compile a model without MPI [HERE](https://profmikewood.github.io/ocean_modeling_book/mitgcm/getting_started_with_MITgcm.html#compiling-without-mpi) for the barotropic gyre verification experiment.\n",
    "\n",
    "Note that you will need to identify the \"optfile\" for your machine. Notes on identifying this file are [HERE](https://profmikewood.github.io/ocean_modeling_book/mitgcm/choosing_an_optfile.html).\n",
    "\n",
    "When the compilation is complete, you should see the `mitgcmuv` file in your `build` directory. Enter the command below you used to verify this file exists."
   ]
  },
  {
   "cell_type": "markdown",
   "id": "384fdfe4-577c-4935-a502-fb5f14e2a8e9",
   "metadata": {},
   "source": [
    "# edit this code cell with the command to ensure the mitgcmuv file exists\n",
    "ls -l mitgcmuv"
   ]
  },
  {
   "cell_type": "markdown",
   "id": "6f1d01cb",
   "metadata": {},
   "source": [
    "If your compilation is successful - woohoo! We'll work on running the model and assessing the output in class after this homework is due."
   ]
  }
 ],
 "metadata": {
  "kernelspec": {
   "display_name": "cs185c",
   "language": "python",
   "name": "cs185c"
  },
  "language_info": {
   "codemirror_mode": {
    "name": "ipython",
    "version": 3
   },
   "file_extension": ".py",
   "mimetype": "text/x-python",
   "name": "python",
   "nbconvert_exporter": "python",
   "pygments_lexer": "ipython3",
   "version": "3.11.11"
  }
 },
 "nbformat": 4,
 "nbformat_minor": 5
}
